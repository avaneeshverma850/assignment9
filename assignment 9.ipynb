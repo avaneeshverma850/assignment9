{
 "cells": [
  {
   "cell_type": "code",
   "execution_count": 4,
   "id": "580a32bf-e48f-4b0a-913a-01f31570a50b",
   "metadata": {},
   "outputs": [
    {
     "name": "stdout",
     "output_type": "stream",
     "text": [
      "hero 30 20\n"
     ]
    }
   ],
   "source": [
    "class vehicle:\n",
    "    def __init__(self,name_of_vehicle,max_speed,average_of_speed):\n",
    "        self.name_of_vehicle=name_of_vehicle\n",
    "        self.max_speed=max_speed\n",
    "        self.average_of_speed=average_of_speed\n",
    "    def name_of_vehicle(self):\n",
    "        return  self.name_of_vehicle\n",
    "    def average_of_speed(self):\n",
    "        return average_of_speed\n",
    "    def set_speed(self,max_speed):\n",
    "        self.max_speed=0 if max_speed<0 else max_speed\n",
    "    def get_speed(self):\n",
    "        return self.max_speed\n",
    "    def showoutput(self):\n",
    "        print( self.name_of_vehicle, self.max_speed, self.average_of_speed)\n",
    "c=vehicle(\"hero\",30,20)\n",
    "c.showoutput()\n",
    "        "
   ]
  },
  {
   "cell_type": "code",
   "execution_count": 5,
   "id": "ef5d072e-b831-4c26-81f2-5aa9b507f780",
   "metadata": {},
   "outputs": [
    {
     "name": "stdout",
     "output_type": "stream",
     "text": [
      "this is base class1\n",
      "this is base class2\n"
     ]
    }
   ],
   "source": [
    "\"\"\"  multiple inheritance\n",
    "you can derive a class from any number of base class .deriving a class from more than one direct base class is called multiple inheritance\"\"\"\n",
    "class a1:\n",
    "    print(\"this is base class1\")\n",
    "class a2:\n",
    "    print(\"this is base class2\")\n",
    "class b(a1,a2):\n",
    "    pass\n",
    "c=b()\n"
   ]
  },
  {
   "cell_type": "code",
   "execution_count": null,
   "id": "a59dc6f1-f0fd-463d-8e83-da58bf845732",
   "metadata": {},
   "outputs": [],
   "source": [
    "\"\"\"    method overriding\n",
    "1- is the method having same name with same argument\n",
    "2- it is implemented with inheritance also\n",
    "3- it is mostly used for memory reducing process\"\"\"\n",
    "#example\n",
    "class a:\n",
    "    def f1(self):\n",
    "        print(\"A\")\n",
    "class b:\n",
    "    def f1(self):\n",
    "        print(\"B\")\n",
    "obj=b()\n",
    "obj.f1()    #here base class is override by child class\n",
    "\n",
    "\n"
   ]
  },
  {
   "cell_type": "code",
   "execution_count": 3,
   "id": "fe807bf0-c40e-4d1a-9a94-81d283615c7c",
   "metadata": {},
   "outputs": [
    {
     "name": "stdout",
     "output_type": "stream",
     "text": [
      "name is: avaneesh\n"
     ]
    }
   ],
   "source": [
    "\"\"\" setter method \n",
    "to set value of instance variable (change the value of variable\n",
    "\n",
    "    getter method\n",
    "\n",
    "get the value of instance variable(no modification in value of variable)\"\"\"\n",
    "\n",
    "#example\n",
    "\n",
    "class employee:\n",
    "    def setname(self,a):\n",
    "        self.name=a          #setter method\n",
    "    def getname(self):\n",
    "        print(\"name is:\",self.name)   #getter method\n",
    "e=employee()\n",
    "e.setname(\"avaneesh\")\n",
    "e.getname()"
   ]
  },
  {
   "cell_type": "code",
   "execution_count": 10,
   "id": "59025a49-aafc-4126-9913-3a5944a90cc1",
   "metadata": {},
   "outputs": [
    {
     "name": "stdout",
     "output_type": "stream",
     "text": [
      "4\n",
      "BMW\n"
     ]
    }
   ],
   "source": [
    "class vehicle:\n",
    "    def __init__(self,name_of_vehicle,max_speed,average_of_speed):\n",
    "        self.name_of_vehicle=name_of_vehicle\n",
    "        self.max_speed=max_speed\n",
    "        self.average_of_speed=average_of_speed\n",
    "    def showname_of_vehicle(self):\n",
    "        print(self.name_of_vehicle)\n",
    "    def showaverage_of_speed(self):\n",
    "         print(self.average_of_speed)\n",
    "    def showset_speed(self,max_speed):\n",
    "        self.max_speed=0 if max_speed<0 else max_speed\n",
    "    def showget_speed(self):\n",
    "        print(self.max_speed1)\n",
    "class car(vehicle):\n",
    "    def setseating_capacity(self,x):\n",
    "        self.seatingcapacity=x\n",
    "    def showseating_capacity(self):\n",
    "        print(self.seatingcapacity)\n",
    "s=car(\"BMW\",140,100)\n",
    "s.setseating_capacity(4)\n",
    "s.showseating_capacity()\n",
    "s.showname_of_vehicle()\n",
    "\n",
    "    \n"
   ]
  },
  {
   "cell_type": "code",
   "execution_count": null,
   "id": "be7c74f6-0290-490a-94ff-3d0db6d8058f",
   "metadata": {},
   "outputs": [],
   "source": []
  }
 ],
 "metadata": {
  "kernelspec": {
   "display_name": "Python 3 (ipykernel)",
   "language": "python",
   "name": "python3"
  },
  "language_info": {
   "codemirror_mode": {
    "name": "ipython",
    "version": 3
   },
   "file_extension": ".py",
   "mimetype": "text/x-python",
   "name": "python",
   "nbconvert_exporter": "python",
   "pygments_lexer": "ipython3",
   "version": "3.10.8"
  }
 },
 "nbformat": 4,
 "nbformat_minor": 5
}
